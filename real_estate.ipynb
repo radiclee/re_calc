{
 "cells": [
  {
   "cell_type": "markdown",
   "metadata": {},
   "source": [
    "# Mortgage Calculator"
   ]
  },
  {
   "cell_type": "code",
   "execution_count": null,
   "metadata": {},
   "outputs": [],
   "source": [
    "# Fixed monthly payment\n",
    "# P = L[c(1 + c)n]/[(1 + c)n - 1]\n",
    "\n",
    "price = 950000\n",
    "downpayment = 200000\n",
    "interest_rate = 3.625\n",
    "yrs = 30\n",
    "\n",
    "loan_amt = price - downpayment\n",
    "monthly_interest_rate = interest_rate/12.0/100.0\n",
    "n_months = yrs*12.0\n",
    "P = loan_amt*monthly_interest_rate*(1+monthly_interest_rate)**n_months/((1+monthly_interest_rate)**n_months-1)\n",
    "total_interest = P*n_months-loan_amt\n",
    "\n",
    "# interest vs principal payment schedule\n",
    "interest_paid = []\n",
    "remaining_principal = price\n",
    "for i in range(12*yrs):\n",
    "    paid = 0\n",
    "    for m in range(12):\n",
    "        interest_payment = monthly_interest_rate*remaining_principal\n",
    "        paid += interest_payment\n",
    "        remaining_principal -= (P - interest_payment)\n",
    "    interest_paid.append(round(paid,2))\n",
    "\n",
    "print(\"Mortgage Info\\n===================\")\n",
    "print(\"loan amount: \", loan_amt)\n",
    "print(\"total interest: \", total_interest)\n",
    "print(\"monthly payment: \", P)\n",
    "print(\"yearly interest payment:\\n\\t\", interest_paid)\n",
    "print()\n",
    "\n",
    "# fixed expenses, monthly\n",
    "\n",
    "insurance = 165.0\n",
    "utilities = 200.0\n",
    "property_tax = 0.57/100/12*price\n",
    "maintenance = 0.015*price/12\n",
    "costs_monthly = P + insurance + utilities + property_tax + maintenance\n",
    "\n",
    "# tax deductions, monthly\n",
    "\n",
    "marginal_tax_rate = .33 + .0463\n",
    "tax_savings = []\n",
    "for i in range(yrs):\n",
    "    tax_deduction = interest_paid[i] - (300000-166700)*.03*.33\n",
    "    tax_savings.append(round(annual_tax_deduction * marginal_tax_rate, 2))\n",
    "\n",
    "# total annual costs\n",
    "annual_cost_to_own = []\n",
    "for i in range(yrs):\n",
    "    annual_cost_to_own.append(round(costs_monthly*12 - tax_savings[i],2))\n",
    "    \n",
    "print(\"Costs Info\\n===================\")\n",
    "print(\"yearly cost to own: \", costs_monthly*12)\n",
    "print(\"yearly tax savings: \", tax_savings)\n",
    "print(\"annual cost to own: \", annual_cost_to_own)\n",
    "print(\"annual cost to own [%]: \", annual_cost_to_own/price)"
   ]
  },
  {
   "cell_type": "code",
   "execution_count": null,
   "metadata": {},
   "outputs": [],
   "source": []
  }
 ],
 "metadata": {
  "kernelspec": {
   "display_name": "Python 3",
   "language": "python",
   "name": "python3"
  },
  "language_info": {
   "codemirror_mode": {
    "name": "ipython",
    "version": 3
   },
   "file_extension": ".py",
   "mimetype": "text/x-python",
   "name": "python",
   "nbconvert_exporter": "python",
   "pygments_lexer": "ipython3",
   "version": "3.7.3"
  }
 },
 "nbformat": 4,
 "nbformat_minor": 2
}
