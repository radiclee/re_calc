{
 "cells": [
  {
   "cell_type": "markdown",
   "metadata": {},
   "source": [
    "# Mortgage Calculator"
   ]
  },
  {
   "cell_type": "code",
   "execution_count": 4,
   "metadata": {},
   "outputs": [
    {
     "name": "stdout",
     "output_type": "stream",
     "text": [
      "Mortgage Info\n",
      "===================\n",
      "loan amount:  750000\n",
      "total interest:  481338.5154598856\n",
      "monthly payment:  3420.384765166349\n",
      "yearly interest payment:\n",
      "\t [34326.61, 34079.0, 33822.26, 33556.05, 33280.04, 32993.85, 32697.11, 32389.43, 32070.42, 31739.64, 31396.67, 31041.07, 30672.35, 30290.05, 29893.65, 29482.64, 29056.49, 28614.63, 28156.48, 27681.44, 27188.89, 26678.2, 26148.67, 25599.63, 25030.35, 24440.09, 23828.08, 23193.5, 22535.54, 21853.33]\n",
      "\n",
      "Costs Info\n",
      "===================\n",
      "yearly cost to own:  65089.61718199619\n",
      "yearly tax savings: \n",
      "\t [12420.51, 12327.34, 12230.72, 12130.55, 12026.69, 11918.99, 11807.33, 11691.55, 11571.51, 11447.03, 11317.98, 11184.16, 11045.41, 10901.55, 10752.39, 10597.73, 10437.37, 10271.09, 10098.69, 9919.93, 9734.59, 9542.41, 9343.15, 9136.55, 8922.33, 8700.21, 8469.91, 8231.12, 7983.53, 7726.82] \n",
      "\n",
      "\n",
      "annual cost to own: \n",
      "\t [52669.11, 52762.28, 52858.9, 52959.07, 53062.93, 53170.63, 53282.29, 53398.07, 53518.11, 53642.59, 53771.64, 53905.46, 54044.21, 54188.07, 54337.23, 54491.89, 54652.25, 54818.53, 54990.93, 55169.69, 55355.03, 55547.21, 55746.47, 55953.07, 56167.29, 56389.41, 56619.71, 56858.5, 57106.09, 57362.8] \n",
      "\n",
      "\n",
      "annual cost to own [%]: \n",
      "\t [0.05544116842105263, 0.055539242105263155, 0.055640947368421054, 0.05574638947368421, 0.05585571578947368, 0.055969084210526314, 0.05608662105263158, 0.056208494736842106, 0.05633485263157895, 0.05646588421052631, 0.056601726315789476, 0.05674258947368421, 0.056888642105263156, 0.057040073684210525, 0.05719708421052632, 0.05735988421052632, 0.057528684210526315, 0.057703715789473684, 0.05788518947368421, 0.058073357894736846, 0.05826845263157895, 0.058470747368421054, 0.05868049473684211, 0.05889796842105263, 0.05912346315789474, 0.05935727368421053, 0.0595996947368421, 0.05985105263157895, 0.060111673684210526, 0.06038189473684211]\n"
     ]
    }
   ],
   "source": [
    "# Fixed monthly payment\n",
    "# P = L[c(1 + c)n]/[(1 + c)n - 1]\n",
    "\n",
    "price = 950000\n",
    "downpayment = 200000\n",
    "interest_rate = 3.625\n",
    "yrs = 30\n",
    "\n",
    "loan_amt = price - downpayment\n",
    "monthly_interest_rate = interest_rate/12.0/100.0\n",
    "n_months = yrs*12.0\n",
    "P = loan_amt*monthly_interest_rate*(1+monthly_interest_rate)**n_months/((1+monthly_interest_rate)**n_months-1)\n",
    "total_interest = P*n_months-loan_amt\n",
    "\n",
    "# interest vs principal payment schedule\n",
    "interest_paid = []\n",
    "remaining_principal = price\n",
    "for i in range(yrs):\n",
    "    paid = 0\n",
    "    for m in range(12):\n",
    "        interest_payment = monthly_interest_rate*remaining_principal\n",
    "        paid += interest_payment\n",
    "        remaining_principal -= (P - interest_payment)\n",
    "    interest_paid.append(round(paid,2))\n",
    "\n",
    "print(\"Mortgage Info\\n===================\")\n",
    "print(\"loan amount: \", loan_amt)\n",
    "print(\"total interest: \", total_interest)\n",
    "print(\"monthly payment: \", P)\n",
    "print(\"yearly interest payment:\\n\\t\", interest_paid)\n",
    "print()\n",
    "\n",
    "# fixed expenses, monthly\n",
    "\n",
    "insurance = 165.0\n",
    "utilities = 200.0\n",
    "property_tax = 0.57/100/12*price\n",
    "maintenance = 0.015*price/12\n",
    "costs_monthly = P + insurance + utilities + property_tax + maintenance\n",
    "\n",
    "# tax deductions, monthly\n",
    "\n",
    "marginal_tax_rate = .33 + .0463\n",
    "tax_savings = []\n",
    "for i in range(yrs):\n",
    "    tax_deduction = interest_paid[i] - (300000-166700)*.03*.33\n",
    "    tax_savings.append(round(tax_deduction * marginal_tax_rate, 2))\n",
    "\n",
    "# total annual costs\n",
    "annual_cost_to_own = []\n",
    "for i in range(yrs):\n",
    "    annual_cost_to_own.append(round(costs_monthly*12 - tax_savings[i],2))\n",
    "    \n",
    "print(\"Costs Info\\n===================\")\n",
    "print(\"yearly cost to own: \", costs_monthly*12)\n",
    "print(\"yearly tax savings: \\n\\t\", tax_savings,\"\\n\\n\")\n",
    "print(\"annual cost to own: \\n\\t\", annual_cost_to_own,\"\\n\\n\")\n",
    "print(\"annual cost to own [%]: \\n\\t\", [i/price for i in annual_cost_to_own])"
   ]
  },
  {
   "cell_type": "code",
   "execution_count": null,
   "metadata": {},
   "outputs": [],
   "source": []
  }
 ],
 "metadata": {
  "kernelspec": {
   "display_name": "Python 3",
   "language": "python",
   "name": "python3"
  }
 },
 "nbformat": 4,
 "nbformat_minor": 2
}
