{
 "cells": [
  {
   "cell_type": "markdown",
   "metadata": {},
   "source": [
    "# Mortgage Calculator"
   ]
  },
  {
   "cell_type": "code",
   "execution_count": 49,
   "metadata": {},
   "outputs": [
    {
     "name": "stdout",
     "output_type": "stream",
     "text": [
      "loan amount:  750000\n",
      "monthly:  3420.384765166349\n",
      "total interest:  481338.5154598856\n",
      "total monthly:  5424.134765166349\n",
      "annual cost to own [%]:  0.06851538650736441\n"
     ]
    }
   ],
   "source": [
    "# Fixed monthly payment\n",
    "# P = L[c(1 + c)n]/[(1 + c)n - 1]\n",
    "\n",
    "price = 950000\n",
    "downpayment = 200000\n",
    "interest_rate = 3.625\n",
    "yrs = 30\n",
    "\n",
    "loan_amt = price - downpayment\n",
    "monthly_interest_rate = interest_rate/12.0/100.0\n",
    "n_months = yrs*12.0\n",
    "P = loan_amt*monthly_interest_rate*(1+monthly_interest_rate)**n_months/((1+monthly_interest_rate)**n_months-1)\n",
    "\n",
    "print(\"loan amount: \", loan_amt)\n",
    "print(\"monthly: \", P)\n",
    "print(\"total interest: \", P*n_months-loan_amt)\n",
    "\n",
    "# Other expenses, monthly\n",
    "\n",
    "insurance = 165.0\n",
    "utilities = 200.0\n",
    "property_tax = 0.57/100/12*price\n",
    "maintenance = 0.015*price/12\n",
    "\n",
    "total_monthly = P + insurance + utilities + property_tax + maintenance\n",
    "annual_cost_to_own = total_monthly*12/price\n",
    "print(\"total monthly: \", total_monthly)\n",
    "print(\"annual cost to own [%]: \", annual_cost_to_own)"
   ]
  },
  {
   "cell_type": "code",
   "execution_count": 46,
   "metadata": {},
   "outputs": [
    {
     "name": "stdout",
     "output_type": "stream",
     "text": [
      "total monthly:  5424.134765166349\n",
      "annual cost to own [%]:  0.06851538650736441\n"
     ]
    }
   ],
   "source": []
  },
  {
   "cell_type": "code",
   "execution_count": null,
   "metadata": {},
   "outputs": [],
   "source": []
  }
 ],
 "metadata": {
  "kernelspec": {
   "display_name": "Python 3",
   "language": "python",
   "name": "python3"
  },
  "language_info": {
   "codemirror_mode": {
    "name": "ipython",
    "version": 3
   },
   "file_extension": ".py",
   "mimetype": "text/x-python",
   "name": "python",
   "nbconvert_exporter": "python",
   "pygments_lexer": "ipython3",
   "version": "3.6.7"
  }
 },
 "nbformat": 4,
 "nbformat_minor": 2
}
